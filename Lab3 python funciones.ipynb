{
 "cells": [
  {
   "cell_type": "markdown",
   "id": "25d7736c-ba17-4aff-b6bb-66eba20fbf4e",
   "metadata": {},
   "source": [
    "# Lab | Functions"
   ]
  },
  {
   "cell_type": "markdown",
   "id": "0c581062-8967-4d93-b06e-62833222f930",
   "metadata": {
    "tags": []
   },
   "source": [
    "## Exercise: Managing Customer Orders with Functions\n",
    "\n",
    "In the previous exercise, you improved the code for managing customer orders by using loops and flow control. Now, let's take it a step further and refactor the code by introducing functions.\n",
    "\n",
    "Follow the steps below to complete the exercise:\n",
    "\n",
    "1. Define a function named `initialize_inventory` that takes `products` as a parameter. Inside the function, implement the code for initializing the inventory dictionary using a loop and user input.\n",
    "\n",
    "2. Define a function named `get_customer_orders` that takes no parameters. Inside the function, implement the code for prompting the user to enter the product names using a loop. The function should return the `customer_orders` set.\n",
    "\n",
    "3. Define a function named `update_inventory` that takes `customer_orders` and `inventory` as parameters. Inside the function, implement the code for updating the inventory dictionary based on the customer orders.\n",
    "\n",
    "4. Define a function named `calculate_order_statistics` that takes `customer_orders` and `products` as parameters. Inside the function, implement the code for calculating the order statistics (total products ordered, and percentage of unique products ordered). The function should return these values.\n",
    "\n",
    "5. Define a function named `print_order_statistics` that takes `order_statistics` as a parameter. Inside the function, implement the code for printing the order statistics.\n",
    "\n",
    "6. Define a function named `print_updated_inventory` that takes `inventory` as a parameter. Inside the function, implement the code for printing the updated inventory.\n",
    "\n",
    "7. Call the functions in the appropriate sequence to execute the program and manage customer orders.\n",
    "\n",
    "Hints for functions:\n",
    "\n",
    "- Consider the input parameters required for each function and their return values.\n",
    "- Utilize function parameters and return values to transfer data between functions.\n",
    "- Test your functions individually to ensure they work correctly.\n",
    "\n",
    "\n"
   ]
  },
  {
   "cell_type": "code",
   "execution_count": 95,
   "id": "2bb49fcc",
   "metadata": {},
   "outputs": [],
   "source": [
    "def initialize_inventory(products):\n",
    "    inventory = {}\n",
    "    for product in products:\n",
    "        cantidad = int(input(f\"Ingrese la cantidad disponible de '{product}': \"))\n",
    "        inventory[product] = cantidad\n",
    "    return inventory\n",
    "\n",
    "products = [\"t-shirt\", \"mug\", \"hat\", \"book\", \"keychain\"]\n",
    "inventory = initialize_inventory(products)"
   ]
  },
  {
   "cell_type": "code",
   "execution_count": 96,
   "id": "e193b692",
   "metadata": {},
   "outputs": [
    {
     "name": "stdout",
     "output_type": "stream",
     "text": [
      "Inventario actualizado\n",
      "t-shirt: 10\n",
      "mug: 10\n",
      "hat: 10\n",
      "book: 10\n",
      "keychain: 10\n"
     ]
    }
   ],
   "source": [
    "print(\"Inventario actualizado\")\n",
    "for product, cantidad in inventory.items():\n",
    "    print(f\"{product}: {cantidad}\")"
   ]
  },
  {
   "cell_type": "code",
   "execution_count": 97,
   "id": "190ffaf8",
   "metadata": {},
   "outputs": [
    {
     "name": "stdout",
     "output_type": "stream",
     "text": [
      "Añadido\n",
      "Añadido\n",
      "Gracias por tu compra\n",
      "\n",
      " Inventario actualizado:\n",
      "t-shirt: 10 unidades\n",
      "mug: 10 unidades\n",
      "hat: 9 unidades\n",
      "book: 9 unidades\n",
      "keychain: 10 unidades\n",
      "\n",
      " Productos Pedidos:\n",
      "- hat\n",
      "- book\n"
     ]
    }
   ],
   "source": [
    "def get_customer_orders():\n",
    "    products = [\"t-shirt\", \"mug\", \"hat\", \"book\", \"keychain\"]\n",
    "    inventory = initialize_inventory(products)\n",
    "    customer_orders = []\n",
    "    while True:\n",
    "        order = input(\"Añade un producto\").lower()\n",
    "\n",
    "        if order in inventory:\n",
    "            if inventory[order] > 0:\n",
    "                    customer_orders.append(order)\n",
    "                    inventory[order] -= 1\n",
    "                    print(\"Añadido\")\n",
    "\n",
    "            else:\n",
    "                    print(\"Esta agotado\")\n",
    "\n",
    "        else: \n",
    "                    print(\"No esta en el inventario\")\n",
    "    \n",
    "        seguir_comprando = input(\"¿Quieres seguir comprando? (sí/no)\").lower()\n",
    "        if seguir_comprando != \"si\":\n",
    "            print(\"Gracias por tu compra\") \n",
    "            break\n",
    "\n",
    "    print(\"\\n Inventario actualizado:\")\n",
    "    for producto, cantidad in inventory.items():\n",
    "        print(f\"{producto}: {cantidad} unidades\")\n",
    "\n",
    "    return customer_orders\n",
    "\n",
    "pedidos = get_customer_orders()\n",
    "\n",
    "print(\"\\n Productos Pedidos:\")\n",
    "for producto in pedidos:\n",
    "    print(f\"- {producto}\")\n",
    "\n",
    "\n"
   ]
  },
  {
   "cell_type": "code",
   "execution_count": 98,
   "id": "ab346f7f",
   "metadata": {},
   "outputs": [
    {
     "name": "stdout",
     "output_type": "stream",
     "text": [
      "\n",
      " Inventario actualizado:\n",
      "t-shirt: 10 unidades\n",
      "mug: 10 unidades\n",
      "hat: 10 unidades\n",
      "book: 10 unidades\n",
      "keychain: 10 unidades\n"
     ]
    }
   ],
   "source": [
    "def update_inventory(get_customer_orders, inventory):\n",
    "    for product in customer_orders:\n",
    "        if product in inventory:\n",
    "            if inventory[product] > 0:\n",
    "                inventory[product] -= 1\n",
    "            else:\n",
    "                print(f\" El producto '{product}' ya está agotado.\")\n",
    "        else:\n",
    "            print(f\" El producto '{product}' no existe en el inventario.\")\n",
    "\n",
    "    return update_inventory(customer_orders, inventory)\n",
    "\n",
    "print(\"\\n Inventario actualizado:\")\n",
    "for producto, cantidad in inventory.items():\n",
    "    print(f\"{producto}: {cantidad} unidades\")"
   ]
  },
  {
   "cell_type": "code",
   "execution_count": 99,
   "id": "a6e45e1a",
   "metadata": {},
   "outputs": [
    {
     "ename": "NameError",
     "evalue": "name 'customer_orders' is not defined",
     "output_type": "error",
     "traceback": [
      "\u001b[31m---------------------------------------------------------------------------\u001b[39m",
      "\u001b[31mNameError\u001b[39m                                 Traceback (most recent call last)",
      "\u001b[36mCell\u001b[39m\u001b[36m \u001b[39m\u001b[32mIn[99]\u001b[39m\u001b[32m, line 12\u001b[39m\n\u001b[32m      9\u001b[39m     percentage_unique = (unique_ordered / total_products) * \u001b[32m100\u001b[39m \u001b[38;5;28;01mif\u001b[39;00m total_products > \u001b[32m0\u001b[39m \u001b[38;5;28;01melse\u001b[39;00m \u001b[32m0\u001b[39m\n\u001b[32m     11\u001b[39m     \u001b[38;5;28;01mreturn\u001b[39;00m total_ordered, unique_ordered\n\u001b[32m---> \u001b[39m\u001b[32m12\u001b[39m total, porcentaje = calculate_order_statistics(\u001b[43mcustomer_orders\u001b[49m, products)\n\u001b[32m     14\u001b[39m \u001b[38;5;28mprint\u001b[39m(\u001b[33mf\u001b[39m\u001b[33m\"\u001b[39m\u001b[33m Productos añadidos: \u001b[39m\u001b[38;5;132;01m{\u001b[39;00mcustomer_orders\u001b[38;5;132;01m}\u001b[39;00m\u001b[33m\"\u001b[39m)\n\u001b[32m     15\u001b[39m \u001b[38;5;28mprint\u001b[39m(\u001b[33mf\u001b[39m\u001b[33m\"\u001b[39m\u001b[33m Porcentaje de productos únicos pedidos: \u001b[39m\u001b[38;5;132;01m{\u001b[39;00mporcentaje\u001b[38;5;132;01m:\u001b[39;00m\u001b[33m.2f\u001b[39m\u001b[38;5;132;01m}\u001b[39;00m\u001b[33m%\u001b[39m\u001b[33m\"\u001b[39m)\n",
      "\u001b[31mNameError\u001b[39m: name 'customer_orders' is not defined"
     ]
    }
   ],
   "source": [
    "def calculate_order_statistics(customer_orders, products):\n",
    "    customer_orders = get_customer_orders()\n",
    "    products = inventory\n",
    "    \n",
    "    total_ordered = len(customer_orders) \n",
    "    unique_ordered = len(set(customer_orders))  \n",
    "    total_products = len(products)  \n",
    "\n",
    "    percentage_unique = (unique_ordered / total_products) * 100 if total_products > 0 else 0\n",
    "\n",
    "    return total_ordered, unique_ordered\n",
    "total, porcentaje = calculate_order_statistics(customer_orders, products)\n",
    "\n",
    "print(f\" Productos añadidos: {customer_orders}\")\n",
    "print(f\" Porcentaje de productos únicos pedidos: {porcentaje:.2f}%\")"
   ]
  },
  {
   "cell_type": "code",
   "execution_count": 100,
   "id": "3c5293d3",
   "metadata": {},
   "outputs": [],
   "source": [
    "def print_order_statistics(order_statistics):\n",
    "    total_ordered, percentage_unique = order_statistics\n",
    "    print(f\"Total de productos pedidos: {total_ordered}\")\n",
    "    print(f\"Porcentaje de productos únicos pedidos: {percentage_unique:.2f}%\")"
   ]
  },
  {
   "cell_type": "code",
   "execution_count": 101,
   "id": "fa7f4384",
   "metadata": {},
   "outputs": [],
   "source": [
    "def print_updated_inventory(inventory):\n",
    "    print(\"Inventario actualizado:\")\n",
    "    for producto, cantidad in inventory.items():\n",
    "        print(f\"{producto}: {cantidad} unidades\")"
   ]
  },
  {
   "cell_type": "code",
   "execution_count": 102,
   "id": "905edcb2",
   "metadata": {},
   "outputs": [
    {
     "ename": "TypeError",
     "evalue": "'dict' object is not callable",
     "output_type": "error",
     "traceback": [
      "\u001b[31m---------------------------------------------------------------------------\u001b[39m",
      "\u001b[31mTypeError\u001b[39m                                 Traceback (most recent call last)",
      "\u001b[36mCell\u001b[39m\u001b[36m \u001b[39m\u001b[32mIn[102]\u001b[39m\u001b[32m, line 1\u001b[39m\n\u001b[32m----> \u001b[39m\u001b[32m1\u001b[39m \u001b[43minventory\u001b[49m\u001b[43m(\u001b[49m\u001b[43m)\u001b[49m\n\u001b[32m      2\u001b[39m get_customer_orders()\n\u001b[32m      3\u001b[39m update_inventory(get_customer_orders, inventory)\n",
      "\u001b[31mTypeError\u001b[39m: 'dict' object is not callable"
     ]
    }
   ],
   "source": [
    "inventory()\n",
    "get_customer_orders()\n",
    "update_inventory(get_customer_orders, inventory)\n",
    "calculate_order_statistics(customer_orders, products)\n",
    "print_updated_inventory(inventory)\n",
    "print_order_statistics(order_statistics)\n"
   ]
  }
 ],
 "metadata": {
  "kernelspec": {
   "display_name": "Python 3",
   "language": "python",
   "name": "python3"
  },
  "language_info": {
   "codemirror_mode": {
    "name": "ipython",
    "version": 3
   },
   "file_extension": ".py",
   "mimetype": "text/x-python",
   "name": "python",
   "nbconvert_exporter": "python",
   "pygments_lexer": "ipython3",
   "version": "3.11.0"
  }
 },
 "nbformat": 4,
 "nbformat_minor": 5
}
