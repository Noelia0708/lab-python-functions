{
 "cells": [
  {
   "cell_type": "markdown",
   "id": "25d7736c-ba17-4aff-b6bb-66eba20fbf4e",
   "metadata": {},
   "source": [
    "# Lab | Functions"
   ]
  },
  {
   "cell_type": "markdown",
   "id": "0c581062-8967-4d93-b06e-62833222f930",
   "metadata": {
    "tags": []
   },
   "source": [
    "## Exercise: Managing Customer Orders with Functions\n",
    "\n",
    "In the previous exercise, you improved the code for managing customer orders by using loops and flow control. Now, let's take it a step further and refactor the code by introducing functions.\n",
    "\n",
    "Follow the steps below to complete the exercise:\n",
    "\n",
    "1. Define a function named `initialize_inventory` that takes `products` as a parameter. Inside the function, implement the code for initializing the inventory dictionary using a loop and user input.\n",
    "\n",
    "2. Define a function named `get_customer_orders` that takes no parameters. Inside the function, implement the code for prompting the user to enter the product names using a loop. The function should return the `customer_orders` set.\n",
    "\n",
    "3. Define a function named `update_inventory` that takes `customer_orders` and `inventory` as parameters. Inside the function, implement the code for updating the inventory dictionary based on the customer orders.\n",
    "\n",
    "4. Define a function named `calculate_order_statistics` that takes `customer_orders` and `products` as parameters. Inside the function, implement the code for calculating the order statistics (total products ordered, and percentage of unique products ordered). The function should return these values.\n",
    "\n",
    "5. Define a function named `print_order_statistics` that takes `order_statistics` as a parameter. Inside the function, implement the code for printing the order statistics.\n",
    "\n",
    "6. Define a function named `print_updated_inventory` that takes `inventory` as a parameter. Inside the function, implement the code for printing the updated inventory.\n",
    "\n",
    "7. Call the functions in the appropriate sequence to execute the program and manage customer orders.\n",
    "\n",
    "Hints for functions:\n",
    "\n",
    "- Consider the input parameters required for each function and their return values.\n",
    "- Utilize function parameters and return values to transfer data between functions.\n",
    "- Test your functions individually to ensure they work correctly.\n",
    "\n",
    "\n"
   ]
  },
  {
   "cell_type": "code",
   "execution_count": 81,
   "id": "8c308796",
   "metadata": {},
   "outputs": [],
   "source": [
    "products = [\"t-shirt\", \"mug\", \"hat\", \"book\", \"keychain\"]"
   ]
  },
  {
   "cell_type": "code",
   "execution_count": 82,
   "id": "2bb49fcc",
   "metadata": {},
   "outputs": [],
   "source": [
    "def initialize_inventory(products):\n",
    "    inventory = {}\n",
    "    for product in products:\n",
    "        cantidad = int(input(f\"Introduce la cantidad de {product}: \"))\n",
    "        inventory[product] = cantidad\n",
    "    return inventory"
   ]
  },
  {
   "cell_type": "code",
   "execution_count": 83,
   "id": "e193b692",
   "metadata": {},
   "outputs": [
    {
     "name": "stdout",
     "output_type": "stream",
     "text": [
      "{'t-shirt': 9, 'mug': 9, 'hat': 9, 'book': 9, 'keychain': 9}\n"
     ]
    }
   ],
   "source": [
    "products = [\"t-shirt\", \"mug\", \"hat\", \"book\", \"keychain\"]\n",
    "\n",
    "inventory = initialize_inventory(products)\n",
    "\n",
    "print(inventory)"
   ]
  },
  {
   "cell_type": "code",
   "execution_count": 84,
   "id": "190ffaf8",
   "metadata": {},
   "outputs": [
    {
     "name": "stdout",
     "output_type": "stream",
     "text": [
      "Por favor, selecciona los productos que quieras:\n",
      "Producto añadido.\n",
      "Producto añadido.\n",
      "Gracias por tu compra. Buen dia.\n",
      "\n",
      " Inventario actualizado: \n",
      "t-shirt: 9 unidades \n",
      "mug: 8 unidades \n",
      "hat: 8 unidades \n",
      "book: 9 unidades \n",
      "keychain: 9 unidades \n",
      "Productos pedidos: \n",
      "- mug\n",
      "- hat\n"
     ]
    }
   ],
   "source": [
    "def get_customer_orders():\n",
    "    customer_orders = set() \n",
    "\n",
    "    print(\"Por favor, selecciona los productos que quieras:\")\n",
    "\n",
    "    while True: \n",
    "        product = input(\"Producto que desea añadir: \").lower()\n",
    "        if product in inventory:\n",
    "            if inventory[product] > 0:\n",
    "                customer_orders.add(product)\n",
    "                inventory[product] -= 1\n",
    "                print(\"Producto añadido.\")\n",
    "            else: \n",
    "                print(\"Esta agotado.\")\n",
    "        else:\n",
    "            print(\"No disponible en el inventario.\")\n",
    "\n",
    "        seguir_comprando = input(\"¿Quieres seguir comprando?: (si/no)\").lower()\n",
    "        if seguir_comprando != \"si\":\n",
    "            print(\"Gracias por tu compra. Buen dia.\")\n",
    "            break\n",
    "\n",
    "    print(\"\\n Inventario actualizado: \")\n",
    "    for product, cantidad in inventory.items():\n",
    "        print(f\"{product}: {cantidad} unidades \")\n",
    "    return customer_orders\n",
    "\n",
    "pedidos = get_customer_orders()\n",
    "print(\"Productos pedidos: \")\n",
    "for product in pedidos:\n",
    "    print(f\"- {product}\")\n",
    "\n",
    "\n"
   ]
  },
  {
   "cell_type": "code",
   "execution_count": 85,
   "id": "80a478e3",
   "metadata": {},
   "outputs": [],
   "source": [
    "def update_inventory(customer_orders, inventory):\n",
    "    for product in customer_orders:\n",
    "        if product in inventory:\n",
    "            if inventory[product] > 0:\n",
    "                inventory[product] -= 1\n",
    "            else:\n",
    "                print(f\"No hay stock disponible para {product}.\")\n",
    "        else:\n",
    "            print(f\"{product} no se encuentra en el inventario.\")\n"
   ]
  },
  {
   "cell_type": "code",
   "execution_count": 86,
   "id": "ab346f7f",
   "metadata": {},
   "outputs": [],
   "source": [
    "def calculate_order_statistics(customer_orders, products):\n",
    "    total_ordered = len(customer_orders)\n",
    "    percentage_unique = (total_ordered / len(products)) * 100\n",
    "    return total_ordered, percentage_unique"
   ]
  },
  {
   "cell_type": "code",
   "execution_count": 91,
   "id": "a6e45e1a",
   "metadata": {},
   "outputs": [],
   "source": [
    "def print_order_statistics(order_statistics):\n",
    "    total, percentage = order_statistics\n",
    "    print(\"\\n--- Estadísticas del pedido ---\")\n",
    "    print(\"Total de productos pedidos:\", total)\n",
    "    print(\"Porcentaje de productos únicos pedidos:\", percentage, \"%\")\n",
    "    print(order_statistics)"
   ]
  },
  {
   "cell_type": "code",
   "execution_count": 92,
   "id": "3c5293d3",
   "metadata": {},
   "outputs": [],
   "source": [
    "def print_updated_inventory(inventory):\n",
    "    print(\"\\n--- Inventario actualizado ---\")\n",
    "    for product, cantidad in inventory.items():\n",
    "        print(f\"{product}: {cantidad} unidades\")"
   ]
  },
  {
   "cell_type": "code",
   "execution_count": 93,
   "id": "fa7f4384",
   "metadata": {},
   "outputs": [
    {
     "name": "stdout",
     "output_type": "stream",
     "text": [
      "Por favor, selecciona los productos que quieras:\n",
      "Producto añadido.\n",
      "Producto añadido.\n",
      "Producto añadido.\n",
      "Gracias por tu compra. Buen dia.\n",
      "\n",
      " Inventario actualizado: \n",
      "t-shirt: 9 unidades \n",
      "mug: 8 unidades \n",
      "hat: 8 unidades \n",
      "book: 8 unidades \n",
      "keychain: 9 unidades \n",
      "\n",
      "--- Estadísticas del pedido ---\n",
      "Total de productos pedidos: 3\n",
      "Porcentaje de productos únicos pedidos: 60.0 %\n",
      "(3, 60.0)\n",
      "\n",
      "--- Inventario actualizado ---\n",
      "t-shirt: 9 unidades\n",
      "mug: 8 unidades\n",
      "hat: 8 unidades\n",
      "book: 8 unidades\n",
      "keychain: 9 unidades\n"
     ]
    }
   ],
   "source": [
    "inventory = initialize_inventory(products)\n",
    "\n",
    "customer_orders = get_customer_orders()\n",
    "\n",
    "order_statistics = calculate_order_statistics(customer_orders, products)\n",
    "\n",
    "print_order_statistics(order_statistics)\n",
    "\n",
    "print_updated_inventory(inventory)"
   ]
  }
 ],
 "metadata": {
  "kernelspec": {
   "display_name": "Python 3",
   "language": "python",
   "name": "python3"
  },
  "language_info": {
   "codemirror_mode": {
    "name": "ipython",
    "version": 3
   },
   "file_extension": ".py",
   "mimetype": "text/x-python",
   "name": "python",
   "nbconvert_exporter": "python",
   "pygments_lexer": "ipython3",
   "version": "3.11.0"
  }
 },
 "nbformat": 4,
 "nbformat_minor": 5
}
